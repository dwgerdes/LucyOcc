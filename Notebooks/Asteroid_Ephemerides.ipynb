{
 "nbformat": 4,
 "nbformat_minor": 0,
 "metadata": {
  "colab": {
   "provenance": []
  },
  "kernelspec": {
   "name": "python3",
   "display_name": "Python 3"
  },
  "language_info": {
   "name": "python"
  }
 },
 "cells": [
  {
   "cell_type": "markdown",
   "source": [
    "## Where is my asteroid? How to calculate ephemerides\n",
    "\n",
    "In this exercise we'll show how to use the python interface to JPL's Horizons package to make accurate predictions for asteroid positions. We'll also show how to query the Gaia catalog to compare to the positions of nearby stars, and illustrate all this by examining the upcoming Polymele occultation.\n",
    "\n",
    "[JPL Horizons](https://ssd.jpl.nasa.gov/horizons/) is NASA's toolkit for solar system dynamics. It has a complete database, updated contantly, of all known solar system objects, including spacecraft. (Want to know where that Tesla Roadster that was launched into space a few years ago is now? Horizons can tell you!) It also has sophisticated tools for carrying out dynamical calculations at a level of precision suitable for planning missions such as Lucy. But backyard astronomers can use it, too, to help find solar system objects visible from their location.\n",
    "\n",
    "An ephemeris (plural: ephemerides) is a table of positions and times. Historically, they were printed in books and used by farmers, navigators, astrologers, and skywatchers. The earliest ephemerides date from Babylonian times. Today they are most commonly generated on-demand by computers. An ephemeris table often contains additional information such as an object's magnitude (brightness), rate of motion, phase, elongation from the sun and the moon, elevation above the horizon, rising and setting times, etc. They are almost always calculated for a given location on earth. Even for objects as distant as Jupiter Trojans, parallax due to an observer's location on earth makes a detectable difference to an object's position. (That is why occultations are not visible everywhere!)"
   ],
   "metadata": {
    "id": "0M_IuieI4Ycf",
    "pycharm": {
     "name": "#%% md\n"
    }
   }
  },
  {
   "cell_type": "code",
   "execution_count": 5,
   "metadata": {
    "colab": {
     "base_uri": "https://localhost:8080/"
    },
    "id": "Ol-WKC8H4Pbq",
    "outputId": "fda3ca66-518d-4ba0-e303-c0b978b82e42",
    "pycharm": {
     "name": "#%%\n"
    }
   },
   "outputs": [
    {
     "ename": "ModuleNotFoundError",
     "evalue": "No module named 'numpy'",
     "output_type": "error",
     "traceback": [
      "\u001B[0;31m---------------------------------------------------------------------------\u001B[0m",
      "\u001B[0;31mModuleNotFoundError\u001B[0m                       Traceback (most recent call last)",
      "Cell \u001B[0;32mIn[5], line 1\u001B[0m\n\u001B[0;32m----> 1\u001B[0m \u001B[38;5;28;01mimport\u001B[39;00m \u001B[38;5;21;01mnumpy\u001B[39;00m \u001B[38;5;28;01mas\u001B[39;00m \u001B[38;5;21;01mnp\u001B[39;00m\n\u001B[1;32m      2\u001B[0m \u001B[38;5;28;01mfrom\u001B[39;00m \u001B[38;5;21;01mastroquery\u001B[39;00m\u001B[38;5;21;01m.\u001B[39;00m\u001B[38;5;21;01mjplhorizons\u001B[39;00m \u001B[38;5;28;01mimport\u001B[39;00m Horizons\n\u001B[1;32m      3\u001B[0m \u001B[38;5;28;01mfrom\u001B[39;00m \u001B[38;5;21;01mastroquery\u001B[39;00m\u001B[38;5;21;01m.\u001B[39;00m\u001B[38;5;21;01mgaia\u001B[39;00m \u001B[38;5;28;01mimport\u001B[39;00m Gaia\n",
      "\u001B[0;31mModuleNotFoundError\u001B[0m: No module named 'numpy'"
     ]
    }
   ],
   "source": [
    "import numpy as np\n",
    "from astroquery.jplhorizons import Horizons\n",
    "from astroquery.gaia import Gaia\n",
    "\n",
    "from astropy.time import Time\n",
    "from astropy import units as u\n",
    "from astropy.coordinates import SkyCoord, Distance\n",
    "\n",
    "import numpy as np\n",
    "import pandas as pd\n",
    "\n",
    "import matplotlib.pyplot as plt\n",
    "%matplotlib inline"
   ]
  },
  {
   "cell_type": "code",
   "source": [
    "astname = 'Polymele'"
   ],
   "metadata": {
    "id": "58B6f3YI5RUS",
    "pycharm": {
     "name": "#%%\n"
    }
   },
   "execution_count": 2,
   "outputs": []
  },
  {
   "cell_type": "markdown",
   "source": [
    "First we'll calculate and plot the position of Polymele at daily intervals between now and the Lucy encounter date in September, 2027, as observed from Ann Arbor. We store times as astropy `Time` objects.\n",
    "\n",
    "Many observatories and cities have pre-defined location codes that Horizons understands. A complete list is given at https://minorplanetcenter.net/iau/lists/ObsCodesF.html. One particularly important location code is the earth geocenter, location code 500. Obviously it's not possible to observe from this location, but it's a useful point of reference, because there are no effects from observer parallax or earth's rotation."
   ],
   "metadata": {
    "id": "eLDts68F3y0Q",
    "pycharm": {
     "name": "#%% md\n"
    }
   }
  },
  {
   "cell_type": "code",
   "source": [
    "startdate = Time('2023-01-01 00:00:00', scale='utc', format='iso')\n",
    "enddate = Time('2027-09-15 00:00:00', scale='utc', format='iso')\n",
    "\n",
    "# Ann Arbor's location code is 767\n",
    "ephem = Horizons(id=astname, location='767',\n",
    "                epochs={'start':startdate.iso, \n",
    "                        'stop':enddate.iso, \n",
    "                        'step':'1d'}).ephemerides()"
   ],
   "metadata": {
    "colab": {
     "base_uri": "https://localhost:8080/"
    },
    "id": "BUBfJ6NK4FPW",
    "outputId": "ec1f4a54-5f11-4909-8a7a-c044ba3f29e7",
    "pycharm": {
     "name": "#%%\n"
    }
   },
   "execution_count": null,
   "outputs": [
    {
     "output_type": "stream",
     "name": "stderr",
     "text": [
      "/usr/local/lib/python3.8/dist-packages/erfa/core.py:154: ErfaWarning: ERFA function \"dtf2d\" yielded 1 of \"dubious year (Note 6)\"\n",
      "  warnings.warn('ERFA function \"{}\" yielded {}'.format(func_name, wmsg),\n",
      "/usr/local/lib/python3.8/dist-packages/erfa/core.py:154: ErfaWarning: ERFA function \"d2dtf\" yielded 1 of \"dubious year (Note 5)\"\n",
      "  warnings.warn('ERFA function \"{}\" yielded {}'.format(func_name, wmsg),\n"
     ]
    }
   ]
  },
  {
   "cell_type": "markdown",
   "source": [
    "The call to Horizons returns the requested ephemeris as an astropy `Table`. Personally I find pandas dataframes more widespread and easy to work with; fortunately it's easy to convert it to that format. You can see that Horizons returns a great deal of information in this ephemeris. "
   ],
   "metadata": {
    "id": "-6cRfXmn5pXd",
    "pycharm": {
     "name": "#%% md\n"
    }
   }
  },
  {
   "cell_type": "code",
   "source": [
    "ephem_df = ephem.to_pandas()\n",
    "print(ephem_df.columns)\n",
    "ephem_df.head()"
   ],
   "metadata": {
    "colab": {
     "base_uri": "https://localhost:8080/",
     "height": 777
    },
    "id": "fuMt1B1L6BxD",
    "outputId": "08d2b126-55f9-4322-be25-6b2ddac5bfbb",
    "pycharm": {
     "name": "#%%\n"
    }
   },
   "execution_count": null,
   "outputs": [
    {
     "output_type": "stream",
     "name": "stdout",
     "text": [
      "Index(['targetname', 'datetime_str', 'datetime_jd', 'H', 'G', 'solar_presence',\n",
      "       'flags', 'RA', 'DEC', 'RA_app', 'DEC_app', 'RA_rate', 'DEC_rate', 'AZ',\n",
      "       'EL', 'AZ_rate', 'EL_rate', 'sat_X', 'sat_Y', 'sat_PANG',\n",
      "       'siderealtime', 'airmass', 'magextinct', 'V', 'surfbright',\n",
      "       'illumination', 'illum_defect', 'sat_sep', 'sat_vis', 'ang_width',\n",
      "       'PDObsLon', 'PDObsLat', 'PDSunLon', 'PDSunLat', 'SubSol_ang',\n",
      "       'SubSol_dist', 'NPole_ang', 'NPole_dist', 'EclLon', 'EclLat', 'r',\n",
      "       'r_rate', 'delta', 'delta_rate', 'lighttime', 'vel_sun', 'vel_obs',\n",
      "       'elong', 'elongFlag', 'alpha', 'lunar_elong', 'lunar_illum',\n",
      "       'sat_alpha', 'sunTargetPA', 'velocityPA', 'OrbPlaneAng',\n",
      "       'constellation', 'TDB-UT', 'ObsEclLon', 'ObsEclLat', 'NPole_RA',\n",
      "       'NPole_DEC', 'GlxLon', 'GlxLat', 'solartime', 'earth_lighttime',\n",
      "       'RA_3sigma', 'DEC_3sigma', 'SMAA_3sigma', 'SMIA_3sigma', 'Theta_3sigma',\n",
      "       'Area_3sigma', 'RSS_3sigma', 'r_3sigma', 'r_rate_3sigma',\n",
      "       'SBand_3sigma', 'XBand_3sigma', 'DoppDelay_3sigma', 'true_anom',\n",
      "       'hour_angle', 'alpha_true', 'PABLon', 'PABLat'],\n",
      "      dtype='object')\n"
     ]
    },
    {
     "output_type": "execute_result",
     "data": {
      "text/plain": [
       "                  targetname       datetime_str  datetime_jd      H     G  \\\n",
       "0  15094 Polymele (1999 WB2)  2023-Jan-01 00:00    2459945.5  11.81  0.22   \n",
       "1  15094 Polymele (1999 WB2)  2023-Jan-02 00:00    2459946.5  11.81  0.22   \n",
       "2  15094 Polymele (1999 WB2)  2023-Jan-03 00:00    2459947.5  11.81  0.22   \n",
       "3  15094 Polymele (1999 WB2)  2023-Jan-04 00:00    2459948.5  11.81  0.22   \n",
       "4  15094 Polymele (1999 WB2)  2023-Jan-05 00:00    2459949.5  11.81  0.22   \n",
       "\n",
       "  solar_presence flags         RA       DEC     RA_app  ...  r_3sigma  \\\n",
       "0                    m  104.88567  35.63300  105.27280  ...   79.4109   \n",
       "1                    m  104.71562  35.66557  105.10299  ...   80.7678   \n",
       "2                    m  104.54525  35.69692  104.93286  ...   82.1462   \n",
       "3                    m  104.37467  35.72702  104.76254  ...   83.5447   \n",
       "4                    m  104.20405  35.75585  104.59217  ...   84.9615   \n",
       "\n",
       "   r_rate_3sigma  SBand_3sigma  XBand_3sigma  DoppDelay_3sigma  true_anom  \\\n",
       "0       0.000008          0.34          1.24          0.000530    47.5644   \n",
       "1       0.000008          0.34          1.25          0.000539    47.6594   \n",
       "2       0.000008          0.34          1.25          0.000548    47.7544   \n",
       "3       0.000008          0.34          1.25          0.000557    47.8494   \n",
       "4       0.000008          0.34          1.25          0.000567    47.9443   \n",
       "\n",
       "   hour_angle  alpha_true    PABLon   PABLat  \n",
       "0   -5.907638      2.6429  102.1141  11.5320  \n",
       "1   -5.830608      2.6141  102.0908  11.5476  \n",
       "2   -5.753554      2.6054  102.0675  11.5627  \n",
       "3   -5.676488      2.6170  102.0443  11.5774  \n",
       "4   -5.599418      2.6487  102.0211  11.5915  \n",
       "\n",
       "[5 rows x 83 columns]"
      ],
      "text/html": [
       "\n",
       "  <div id=\"df-0d2f8a00-8ce1-4824-9a23-5d8d3a09cabe\">\n",
       "    <div class=\"colab-df-container\">\n",
       "      <div>\n",
       "<style scoped>\n",
       "    .dataframe tbody tr th:only-of-type {\n",
       "        vertical-align: middle;\n",
       "    }\n",
       "\n",
       "    .dataframe tbody tr th {\n",
       "        vertical-align: top;\n",
       "    }\n",
       "\n",
       "    .dataframe thead th {\n",
       "        text-align: right;\n",
       "    }\n",
       "</style>\n",
       "<table border=\"1\" class=\"dataframe\">\n",
       "  <thead>\n",
       "    <tr style=\"text-align: right;\">\n",
       "      <th></th>\n",
       "      <th>targetname</th>\n",
       "      <th>datetime_str</th>\n",
       "      <th>datetime_jd</th>\n",
       "      <th>H</th>\n",
       "      <th>G</th>\n",
       "      <th>solar_presence</th>\n",
       "      <th>flags</th>\n",
       "      <th>RA</th>\n",
       "      <th>DEC</th>\n",
       "      <th>RA_app</th>\n",
       "      <th>...</th>\n",
       "      <th>r_3sigma</th>\n",
       "      <th>r_rate_3sigma</th>\n",
       "      <th>SBand_3sigma</th>\n",
       "      <th>XBand_3sigma</th>\n",
       "      <th>DoppDelay_3sigma</th>\n",
       "      <th>true_anom</th>\n",
       "      <th>hour_angle</th>\n",
       "      <th>alpha_true</th>\n",
       "      <th>PABLon</th>\n",
       "      <th>PABLat</th>\n",
       "    </tr>\n",
       "  </thead>\n",
       "  <tbody>\n",
       "    <tr>\n",
       "      <th>0</th>\n",
       "      <td>15094 Polymele (1999 WB2)</td>\n",
       "      <td>2023-Jan-01 00:00</td>\n",
       "      <td>2459945.5</td>\n",
       "      <td>11.81</td>\n",
       "      <td>0.22</td>\n",
       "      <td></td>\n",
       "      <td>m</td>\n",
       "      <td>104.88567</td>\n",
       "      <td>35.63300</td>\n",
       "      <td>105.27280</td>\n",
       "      <td>...</td>\n",
       "      <td>79.4109</td>\n",
       "      <td>0.000008</td>\n",
       "      <td>0.34</td>\n",
       "      <td>1.24</td>\n",
       "      <td>0.000530</td>\n",
       "      <td>47.5644</td>\n",
       "      <td>-5.907638</td>\n",
       "      <td>2.6429</td>\n",
       "      <td>102.1141</td>\n",
       "      <td>11.5320</td>\n",
       "    </tr>\n",
       "    <tr>\n",
       "      <th>1</th>\n",
       "      <td>15094 Polymele (1999 WB2)</td>\n",
       "      <td>2023-Jan-02 00:00</td>\n",
       "      <td>2459946.5</td>\n",
       "      <td>11.81</td>\n",
       "      <td>0.22</td>\n",
       "      <td></td>\n",
       "      <td>m</td>\n",
       "      <td>104.71562</td>\n",
       "      <td>35.66557</td>\n",
       "      <td>105.10299</td>\n",
       "      <td>...</td>\n",
       "      <td>80.7678</td>\n",
       "      <td>0.000008</td>\n",
       "      <td>0.34</td>\n",
       "      <td>1.25</td>\n",
       "      <td>0.000539</td>\n",
       "      <td>47.6594</td>\n",
       "      <td>-5.830608</td>\n",
       "      <td>2.6141</td>\n",
       "      <td>102.0908</td>\n",
       "      <td>11.5476</td>\n",
       "    </tr>\n",
       "    <tr>\n",
       "      <th>2</th>\n",
       "      <td>15094 Polymele (1999 WB2)</td>\n",
       "      <td>2023-Jan-03 00:00</td>\n",
       "      <td>2459947.5</td>\n",
       "      <td>11.81</td>\n",
       "      <td>0.22</td>\n",
       "      <td></td>\n",
       "      <td>m</td>\n",
       "      <td>104.54525</td>\n",
       "      <td>35.69692</td>\n",
       "      <td>104.93286</td>\n",
       "      <td>...</td>\n",
       "      <td>82.1462</td>\n",
       "      <td>0.000008</td>\n",
       "      <td>0.34</td>\n",
       "      <td>1.25</td>\n",
       "      <td>0.000548</td>\n",
       "      <td>47.7544</td>\n",
       "      <td>-5.753554</td>\n",
       "      <td>2.6054</td>\n",
       "      <td>102.0675</td>\n",
       "      <td>11.5627</td>\n",
       "    </tr>\n",
       "    <tr>\n",
       "      <th>3</th>\n",
       "      <td>15094 Polymele (1999 WB2)</td>\n",
       "      <td>2023-Jan-04 00:00</td>\n",
       "      <td>2459948.5</td>\n",
       "      <td>11.81</td>\n",
       "      <td>0.22</td>\n",
       "      <td></td>\n",
       "      <td>m</td>\n",
       "      <td>104.37467</td>\n",
       "      <td>35.72702</td>\n",
       "      <td>104.76254</td>\n",
       "      <td>...</td>\n",
       "      <td>83.5447</td>\n",
       "      <td>0.000008</td>\n",
       "      <td>0.34</td>\n",
       "      <td>1.25</td>\n",
       "      <td>0.000557</td>\n",
       "      <td>47.8494</td>\n",
       "      <td>-5.676488</td>\n",
       "      <td>2.6170</td>\n",
       "      <td>102.0443</td>\n",
       "      <td>11.5774</td>\n",
       "    </tr>\n",
       "    <tr>\n",
       "      <th>4</th>\n",
       "      <td>15094 Polymele (1999 WB2)</td>\n",
       "      <td>2023-Jan-05 00:00</td>\n",
       "      <td>2459949.5</td>\n",
       "      <td>11.81</td>\n",
       "      <td>0.22</td>\n",
       "      <td></td>\n",
       "      <td>m</td>\n",
       "      <td>104.20405</td>\n",
       "      <td>35.75585</td>\n",
       "      <td>104.59217</td>\n",
       "      <td>...</td>\n",
       "      <td>84.9615</td>\n",
       "      <td>0.000008</td>\n",
       "      <td>0.34</td>\n",
       "      <td>1.25</td>\n",
       "      <td>0.000567</td>\n",
       "      <td>47.9443</td>\n",
       "      <td>-5.599418</td>\n",
       "      <td>2.6487</td>\n",
       "      <td>102.0211</td>\n",
       "      <td>11.5915</td>\n",
       "    </tr>\n",
       "  </tbody>\n",
       "</table>\n",
       "<p>5 rows × 83 columns</p>\n",
       "</div>\n",
       "      <button class=\"colab-df-convert\" onclick=\"convertToInteractive('df-0d2f8a00-8ce1-4824-9a23-5d8d3a09cabe')\"\n",
       "              title=\"Convert this dataframe to an interactive table.\"\n",
       "              style=\"display:none;\">\n",
       "        \n",
       "  <svg xmlns=\"http://www.w3.org/2000/svg\" height=\"24px\"viewBox=\"0 0 24 24\"\n",
       "       width=\"24px\">\n",
       "    <path d=\"M0 0h24v24H0V0z\" fill=\"none\"/>\n",
       "    <path d=\"M18.56 5.44l.94 2.06.94-2.06 2.06-.94-2.06-.94-.94-2.06-.94 2.06-2.06.94zm-11 1L8.5 8.5l.94-2.06 2.06-.94-2.06-.94L8.5 2.5l-.94 2.06-2.06.94zm10 10l.94 2.06.94-2.06 2.06-.94-2.06-.94-.94-2.06-.94 2.06-2.06.94z\"/><path d=\"M17.41 7.96l-1.37-1.37c-.4-.4-.92-.59-1.43-.59-.52 0-1.04.2-1.43.59L10.3 9.45l-7.72 7.72c-.78.78-.78 2.05 0 2.83L4 21.41c.39.39.9.59 1.41.59.51 0 1.02-.2 1.41-.59l7.78-7.78 2.81-2.81c.8-.78.8-2.07 0-2.86zM5.41 20L4 18.59l7.72-7.72 1.47 1.35L5.41 20z\"/>\n",
       "  </svg>\n",
       "      </button>\n",
       "      \n",
       "  <style>\n",
       "    .colab-df-container {\n",
       "      display:flex;\n",
       "      flex-wrap:wrap;\n",
       "      gap: 12px;\n",
       "    }\n",
       "\n",
       "    .colab-df-convert {\n",
       "      background-color: #E8F0FE;\n",
       "      border: none;\n",
       "      border-radius: 50%;\n",
       "      cursor: pointer;\n",
       "      display: none;\n",
       "      fill: #1967D2;\n",
       "      height: 32px;\n",
       "      padding: 0 0 0 0;\n",
       "      width: 32px;\n",
       "    }\n",
       "\n",
       "    .colab-df-convert:hover {\n",
       "      background-color: #E2EBFA;\n",
       "      box-shadow: 0px 1px 2px rgba(60, 64, 67, 0.3), 0px 1px 3px 1px rgba(60, 64, 67, 0.15);\n",
       "      fill: #174EA6;\n",
       "    }\n",
       "\n",
       "    [theme=dark] .colab-df-convert {\n",
       "      background-color: #3B4455;\n",
       "      fill: #D2E3FC;\n",
       "    }\n",
       "\n",
       "    [theme=dark] .colab-df-convert:hover {\n",
       "      background-color: #434B5C;\n",
       "      box-shadow: 0px 1px 3px 1px rgba(0, 0, 0, 0.15);\n",
       "      filter: drop-shadow(0px 1px 2px rgba(0, 0, 0, 0.3));\n",
       "      fill: #FFFFFF;\n",
       "    }\n",
       "  </style>\n",
       "\n",
       "      <script>\n",
       "        const buttonEl =\n",
       "          document.querySelector('#df-0d2f8a00-8ce1-4824-9a23-5d8d3a09cabe button.colab-df-convert');\n",
       "        buttonEl.style.display =\n",
       "          google.colab.kernel.accessAllowed ? 'block' : 'none';\n",
       "\n",
       "        async function convertToInteractive(key) {\n",
       "          const element = document.querySelector('#df-0d2f8a00-8ce1-4824-9a23-5d8d3a09cabe');\n",
       "          const dataTable =\n",
       "            await google.colab.kernel.invokeFunction('convertToInteractive',\n",
       "                                                     [key], {});\n",
       "          if (!dataTable) return;\n",
       "\n",
       "          const docLinkHtml = 'Like what you see? Visit the ' +\n",
       "            '<a target=\"_blank\" href=https://colab.research.google.com/notebooks/data_table.ipynb>data table notebook</a>'\n",
       "            + ' to learn more about interactive tables.';\n",
       "          element.innerHTML = '';\n",
       "          dataTable['output_type'] = 'display_data';\n",
       "          await google.colab.output.renderOutput(dataTable, element);\n",
       "          const docLink = document.createElement('div');\n",
       "          docLink.innerHTML = docLinkHtml;\n",
       "          element.appendChild(docLink);\n",
       "        }\n",
       "      </script>\n",
       "    </div>\n",
       "  </div>\n",
       "  "
      ]
     },
     "metadata": {},
     "execution_count": 4
    }
   ]
  },
  {
   "cell_type": "markdown",
   "source": [
    "Now we are ready to plot the on-sky position of Polymele over the roughly 5-year period we requested. We'll use the object's visual magnitude (V) as the color scale."
   ],
   "metadata": {
    "id": "cW9TVWLR7wPk",
    "pycharm": {
     "name": "#%% md\n"
    }
   }
  },
  {
   "cell_type": "code",
   "source": [
    "# Generate points for the ecliptic so we can include it in the plot\n",
    "ecliptic = SkyCoord(np.linspace(0,360,1000), np.zeros(1000), unit=(u.deg, u.deg), frame='geocentrictrueecliptic').transform_to('icrs')\n",
    "galactic = SkyCoord(np.linspace(0,360,1000), np.zeros(1000), unit=(u.deg, u.deg), frame='galactic').transform_to('icrs')\n",
    "\n",
    "fig, ax = plt.subplots(1, figsize=(12,8))\n",
    "sc = ax.scatter(ephem_df.RA, ephem_df.DEC, s=2, c=ephem_df.V, cmap='jet')\n",
    "ax.scatter(ecliptic.ra.deg, ecliptic.dec.deg, color='k', s=1, label='ecliptic plane')\n",
    "ax.scatter(galactic.ra.deg, galactic.dec.deg, color='b', s=1, label='galactic plane')\n",
    "plt.colorbar(sc)\n",
    "ax.grid()\n",
    "ax.set_xlabel(\"RA\", fontsize=14)\n",
    "ax.set_ylabel(\"DEC\", fontsize=14)\n",
    "ax.set_xlim([45, 250])\n",
    "ax.legend(fontsize=16)"
   ],
   "metadata": {
    "colab": {
     "base_uri": "https://localhost:8080/",
     "height": 519
    },
    "id": "lxKo3LSX6ZOG",
    "outputId": "a48bbe82-8a85-4103-f34b-18cd450f8077",
    "pycharm": {
     "name": "#%%\n"
    }
   },
   "execution_count": null,
   "outputs": [
    {
     "output_type": "execute_result",
     "data": {
      "text/plain": [
       "<matplotlib.legend.Legend at 0x7f650c4c36a0>"
      ]
     },
     "metadata": {},
     "execution_count": 5
    },
    {
     "output_type": "display_data",
     "data": {
      "text/plain": [
       "<Figure size 864x576 with 2 Axes>"
      ],
      "image/png": "[encoded data removed]"
     },
     "metadata": {
      "needs_background": "light"
     }
    }
   ]
  },
  {
   "cell_type": "markdown",
   "source": [
    "This figure is very characteristic of the long-term motion of an outer solar system object. We are seeing alternating periods of prograde and retrograde motion as the earth passes Polymele once per year on the \"inside track\". This is superimposed on Polymele's own 11.74-year orbital period. Polymele's orbit has a relatively high 13 degree inclination, which accounts for the differing appearance of the \"curlicues\" as its distance above the ecliptic plane changes. Polymele's visual magnitude is also varying within about a 1.5-mag range based on the varying geometry between Polymele, the earth, and the sun.  \n",
    "\n",
    "Two other things to note:\n",
    "\n",
    "*   Earlier times (closer to now) are on the left in Polymele's trajectory above, and later times (closer to the encounter) are on the right. Note that Polymele is moving closer to the ecliptic plane during the next 5 years, and will be very close to the ecliptic at the time of the encounter. This is why it can be encountered in the first place: Lucy's path remains close to the ecliptic plane.\n",
    "*   Marc Buie mentioned in our discussion the other day that Polymele occultations will occur less frequently in the next few years. This figure shows why: its path is also taking it further away from the galactic plane (blue curve), towards regions of lower stellar density.\n",
    "\n",
    "\n",
    "# The February, 2023 occultation\n",
    "\n",
    "Now let's turn to a much shorter time window, the hour surrounding the occultation that will take place on Feb. 4, 2023 at geocentric mid-time 01:39:43 UT. We'll choose a 1-hour window centered on this time, and consider observations made from two locations: Earth's geocenter (for reference), and our tentative location near Salina, Kansas. There is no pre-defined code for this location, but we can describe it to Horizons by hand. (I looked up the lat, lon for a point near downtown from Google Maps, and got the elevation from Wikipedia.) (Why does elevation matter? It affects how atmospheric refraction is calculated, which affects the apparent position of the asteroid.)\n",
    "\n",
    "\n"
   ],
   "metadata": {
    "id": "xoLkJnyA8LFS",
    "pycharm": {
     "name": "#%% md\n"
    }
   }
  },
  {
   "cell_type": "code",
   "source": [
    "startdate = Time('2023-02-04 01:00:00', scale='utc', format='iso')\n",
    "enddate   = Time('2023-02-04 02:00:00', scale='utc', format='iso')\n",
    "\n",
    "Salina_KS = {'lat':38.4031, 'lon':-97.6652, 'elevation':444} # This point is for MacPherson, KS, closer to the centerline"
   ],
   "metadata": {
    "id": "ns94JEYL7lUD",
    "pycharm": {
     "name": "#%%\n"
    }
   },
   "execution_count": null,
   "outputs": []
  },
  {
   "cell_type": "code",
   "source": [
    "#Compute ephemeris positions for two observing locations: Earth geocenter (location=500) and Liberal, KS (location defined above)\n",
    "# We will generate the ephemeris at 1-second intervals (=3600 time steps over one hour) and request high-precision on the ephemeris calculation.\n",
    "ephem_geocenter = Horizons(id=astname, location='500',\n",
    "                          epochs={'start':startdate.iso, \n",
    "                                  'stop':enddate.iso, \n",
    "                                  'step':'3600'}).ephemerides(extra_precision=True)\n",
    "ephem_KS = Horizons(id=astname, location=Salina_KS,\n",
    "                          epochs={'start':startdate.iso, \n",
    "                                  'stop':enddate.iso, \n",
    "                                  'step':'3600'}).ephemerides(extra_precision=True)"
   ],
   "metadata": {
    "id": "B9kHk71Q7uo7",
    "pycharm": {
     "name": "#%%\n"
    }
   },
   "execution_count": null,
   "outputs": []
  },
  {
   "cell_type": "code",
   "source": [
    "# Store the positions as astropy SkyCoords\n",
    "pos_geocenter = SkyCoord(ephem_geocenter['RA'], ephem_geocenter['DEC'], frame='icrs', unit=(u.deg, u.deg))\n",
    "pos_KS = SkyCoord(ephem_KS['RA'], ephem_KS['DEC'], frame='icrs', unit=(u.deg, u.deg))\n"
   ],
   "metadata": {
    "id": "c0xjLvGB8O-v",
    "pycharm": {
     "name": "#%%\n"
    }
   },
   "execution_count": null,
   "outputs": []
  },
  {
   "cell_type": "markdown",
   "source": [
    "Since this is an occultation, we also care about the stars in the area. The state-of-the-art stellar catalog comes from the Gaia satellite, which has measured the position and proper motions of nearly 1.5 billion stars. We will query this database, using the midpoint and range of the asteroid's position to define the region for our query. (If you are not careful and request the Gaia sources over too large of an area, your query may return an enormous number of sources, or return an error!) The result is again returned as an astropy Table which we will again convert to a pandas dataframe. \n"
   ],
   "metadata": {
    "id": "v1NLVN2vCpen",
    "pycharm": {
     "name": "#%% md\n"
    }
   }
  },
  {
   "cell_type": "code",
   "source": [
    "# Get the stars in this area from the Gaia catalog\n",
    "Gaia.MAIN_GAIA_TABLE = \"gaiadr3.gaia_source\"\n",
    "ra_mid, dec_mid = np.average(pos_geocenter.ra.deg), np.average(pos_geocenter.dec.deg)\n",
    "center = SkyCoord(ra=ra_mid, dec=dec_mid, unit=(u.degree, u.degree), frame='icrs')\n",
    "\n",
    "ra_wid = np.max(pos_geocenter.ra.deg) - np.min(pos_geocenter.ra.deg)\n",
    "dec_wid = np.max(pos_geocenter.dec.deg) - np.min(pos_geocenter.dec.deg)\n",
    "width = u.Quantity(ra_wid, u.deg)\n",
    "height = u.Quantity(dec_wid, u.deg)\n",
    "result = Gaia.query_object_async(coordinate=center, width=width, height=height)\n",
    "result_df = result.to_pandas()"
   ],
   "metadata": {
    "colab": {
     "base_uri": "https://localhost:8080/"
    },
    "id": "EHaNk3Ev9Yq2",
    "outputId": "1fffb0e3-73e2-4ab3-a0c0-78d42db1b97f",
    "pycharm": {
     "name": "#%%\n"
    }
   },
   "execution_count": null,
   "outputs": [
    {
     "output_type": "stream",
     "name": "stderr",
     "text": [
      "INFO:astroquery:Query finished.\n"
     ]
    },
    {
     "output_type": "stream",
     "name": "stdout",
     "text": [
      "INFO: Query finished. [astroquery.utils.tap.core]\n"
     ]
    }
   ]
  },
  {
   "cell_type": "code",
   "source": [
    "print(result_df.columns)\n",
    "result_df[['DESIGNATION','ra','dec','ref_epoch','pmra', 'pmdec','parallax','phot_g_mean_mag']].head()\n"
   ],
   "metadata": {
    "colab": {
     "base_uri": "https://localhost:8080/",
     "height": 255
    },
    "id": "u5vdv0-pDoe_",
    "outputId": "a24be37d-dfa1-4d11-e953-48666bf37316",
    "pycharm": {
     "name": "#%%\n"
    }
   },
   "execution_count": null,
   "outputs": [
    {
     "output_type": "stream",
     "name": "stdout",
     "text": [
      "Index(['dist', 'solution_id', 'DESIGNATION', 'source_id', 'random_index',\n",
      "       'ref_epoch', 'ra', 'ra_error', 'dec', 'dec_error',\n",
      "       ...\n",
      "       'azero_gspphot', 'azero_gspphot_lower', 'azero_gspphot_upper',\n",
      "       'ag_gspphot', 'ag_gspphot_lower', 'ag_gspphot_upper',\n",
      "       'ebpminrp_gspphot', 'ebpminrp_gspphot_lower', 'ebpminrp_gspphot_upper',\n",
      "       'libname_gspphot'],\n",
      "      dtype='object', length=153)\n"
     ]
    },
    {
     "output_type": "execute_result",
     "data": {
      "text/plain": [
       "                   DESIGNATION         ra        dec  ref_epoch      pmra  \\\n",
       "0  Gaia DR3 942257658000993664  99.728803  36.024421     2016.0  3.265287   \n",
       "1  Gaia DR3 942258409619588992  99.727726  36.024223     2016.0  3.179665   \n",
       "\n",
       "      pmdec  parallax  phot_g_mean_mag  \n",
       "0 -1.180670  0.682484        18.614342  \n",
       "1 -1.379876  0.848283        13.290937  "
      ],
      "text/html": [
       "\n",
       "  <div id=\"df-c0b097ae-f789-4f6c-a55d-9b6bc77e814c\">\n",
       "    <div class=\"colab-df-container\">\n",
       "      <div>\n",
       "<style scoped>\n",
       "    .dataframe tbody tr th:only-of-type {\n",
       "        vertical-align: middle;\n",
       "    }\n",
       "\n",
       "    .dataframe tbody tr th {\n",
       "        vertical-align: top;\n",
       "    }\n",
       "\n",
       "    .dataframe thead th {\n",
       "        text-align: right;\n",
       "    }\n",
       "</style>\n",
       "<table border=\"1\" class=\"dataframe\">\n",
       "  <thead>\n",
       "    <tr style=\"text-align: right;\">\n",
       "      <th></th>\n",
       "      <th>DESIGNATION</th>\n",
       "      <th>ra</th>\n",
       "      <th>dec</th>\n",
       "      <th>ref_epoch</th>\n",
       "      <th>pmra</th>\n",
       "      <th>pmdec</th>\n",
       "      <th>parallax</th>\n",
       "      <th>phot_g_mean_mag</th>\n",
       "    </tr>\n",
       "  </thead>\n",
       "  <tbody>\n",
       "    <tr>\n",
       "      <th>0</th>\n",
       "      <td>Gaia DR3 942257658000993664</td>\n",
       "      <td>99.728803</td>\n",
       "      <td>36.024421</td>\n",
       "      <td>2016.0</td>\n",
       "      <td>3.265287</td>\n",
       "      <td>-1.180670</td>\n",
       "      <td>0.682484</td>\n",
       "      <td>18.614342</td>\n",
       "    </tr>\n",
       "    <tr>\n",
       "      <th>1</th>\n",
       "      <td>Gaia DR3 942258409619588992</td>\n",
       "      <td>99.727726</td>\n",
       "      <td>36.024223</td>\n",
       "      <td>2016.0</td>\n",
       "      <td>3.179665</td>\n",
       "      <td>-1.379876</td>\n",
       "      <td>0.848283</td>\n",
       "      <td>13.290937</td>\n",
       "    </tr>\n",
       "  </tbody>\n",
       "</table>\n",
       "</div>\n",
       "      <button class=\"colab-df-convert\" onclick=\"convertToInteractive('df-c0b097ae-f789-4f6c-a55d-9b6bc77e814c')\"\n",
       "              title=\"Convert this dataframe to an interactive table.\"\n",
       "              style=\"display:none;\">\n",
       "        \n",
       "  <svg xmlns=\"http://www.w3.org/2000/svg\" height=\"24px\"viewBox=\"0 0 24 24\"\n",
       "       width=\"24px\">\n",
       "    <path d=\"M0 0h24v24H0V0z\" fill=\"none\"/>\n",
       "    <path d=\"M18.56 5.44l.94 2.06.94-2.06 2.06-.94-2.06-.94-.94-2.06-.94 2.06-2.06.94zm-11 1L8.5 8.5l.94-2.06 2.06-.94-2.06-.94L8.5 2.5l-.94 2.06-2.06.94zm10 10l.94 2.06.94-2.06 2.06-.94-2.06-.94-.94-2.06-.94 2.06-2.06.94z\"/><path d=\"M17.41 7.96l-1.37-1.37c-.4-.4-.92-.59-1.43-.59-.52 0-1.04.2-1.43.59L10.3 9.45l-7.72 7.72c-.78.78-.78 2.05 0 2.83L4 21.41c.39.39.9.59 1.41.59.51 0 1.02-.2 1.41-.59l7.78-7.78 2.81-2.81c.8-.78.8-2.07 0-2.86zM5.41 20L4 18.59l7.72-7.72 1.47 1.35L5.41 20z\"/>\n",
       "  </svg>\n",
       "      </button>\n",
       "      \n",
       "  <style>\n",
       "    .colab-df-container {\n",
       "      display:flex;\n",
       "      flex-wrap:wrap;\n",
       "      gap: 12px;\n",
       "    }\n",
       "\n",
       "    .colab-df-convert {\n",
       "      background-color: #E8F0FE;\n",
       "      border: none;\n",
       "      border-radius: 50%;\n",
       "      cursor: pointer;\n",
       "      display: none;\n",
       "      fill: #1967D2;\n",
       "      height: 32px;\n",
       "      padding: 0 0 0 0;\n",
       "      width: 32px;\n",
       "    }\n",
       "\n",
       "    .colab-df-convert:hover {\n",
       "      background-color: #E2EBFA;\n",
       "      box-shadow: 0px 1px 2px rgba(60, 64, 67, 0.3), 0px 1px 3px 1px rgba(60, 64, 67, 0.15);\n",
       "      fill: #174EA6;\n",
       "    }\n",
       "\n",
       "    [theme=dark] .colab-df-convert {\n",
       "      background-color: #3B4455;\n",
       "      fill: #D2E3FC;\n",
       "    }\n",
       "\n",
       "    [theme=dark] .colab-df-convert:hover {\n",
       "      background-color: #434B5C;\n",
       "      box-shadow: 0px 1px 3px 1px rgba(0, 0, 0, 0.15);\n",
       "      filter: drop-shadow(0px 1px 2px rgba(0, 0, 0, 0.3));\n",
       "      fill: #FFFFFF;\n",
       "    }\n",
       "  </style>\n",
       "\n",
       "      <script>\n",
       "        const buttonEl =\n",
       "          document.querySelector('#df-c0b097ae-f789-4f6c-a55d-9b6bc77e814c button.colab-df-convert');\n",
       "        buttonEl.style.display =\n",
       "          google.colab.kernel.accessAllowed ? 'block' : 'none';\n",
       "\n",
       "        async function convertToInteractive(key) {\n",
       "          const element = document.querySelector('#df-c0b097ae-f789-4f6c-a55d-9b6bc77e814c');\n",
       "          const dataTable =\n",
       "            await google.colab.kernel.invokeFunction('convertToInteractive',\n",
       "                                                     [key], {});\n",
       "          if (!dataTable) return;\n",
       "\n",
       "          const docLinkHtml = 'Like what you see? Visit the ' +\n",
       "            '<a target=\"_blank\" href=https://colab.research.google.com/notebooks/data_table.ipynb>data table notebook</a>'\n",
       "            + ' to learn more about interactive tables.';\n",
       "          element.innerHTML = '';\n",
       "          dataTable['output_type'] = 'display_data';\n",
       "          await google.colab.output.renderOutput(dataTable, element);\n",
       "          const docLink = document.createElement('div');\n",
       "          docLink.innerHTML = docLinkHtml;\n",
       "          element.appendChild(docLink);\n",
       "        }\n",
       "      </script>\n",
       "    </div>\n",
       "  </div>\n",
       "  "
      ]
     },
     "metadata": {},
     "execution_count": 11
    }
   ]
  },
  {
   "cell_type": "markdown",
   "source": [
    "The query returned only two stars. Again you can see that there is a very large amount of information about each star in the catalog. We care primarily about the star's RA, DEC, proper motion, and magnitude (`phot_g_mean_mag`). For occultations, we need to be be super-precise about the star's position, so we will next apply Gaia's corrections for the star's proper motion. "
   ],
   "metadata": {
    "id": "R5W58ydfd8Si",
    "pycharm": {
     "name": "#%% md\n"
    }
   }
  },
  {
   "cell_type": "code",
   "source": [
    "# Here we apply the Gaia proper motion corrections to the stars. (They have moved since Gaia measured them, but the proper motion corrections account for that.)\n",
    "distance = Distance(parallax=result_df['parallax'].values*u.mas)\n",
    "stars = SkyCoord(ra=result_df.ra.values * u.deg,\n",
    "             dec=result_df.dec.values * u.deg,\n",
    "             distance=distance,\n",
    "             pm_ra_cosdec=result_df.pmra.values * u.mas/u.yr,\n",
    "             pm_dec=result_df.pmdec.values * u.mas/u.yr,\n",
    "             obstime=Time(result_df.ref_epoch.values, format='jyear',\n",
    "                          scale='tcb'))\n",
    "stars_tonight = stars.apply_space_motion(Time('2023-02-04', format='iso', scale='utc'))\n",
    "result_df['ra_current'] = stars_tonight.ra.deg\n",
    "result_df['dec_current'] = stars_tonight.dec.deg"
   ],
   "metadata": {
    "id": "cxpWpUPXMYDs",
    "pycharm": {
     "name": "#%%\n"
    }
   },
   "execution_count": null,
   "outputs": []
  },
  {
   "cell_type": "code",
   "source": [
    "print(distance.lightyear)"
   ],
   "metadata": {
    "colab": {
     "base_uri": "https://localhost:8080/"
    },
    "id": "ojIzzozcbPqg",
    "outputId": "25fa3a6e-3891-420c-fc74-d90d84329fa2",
    "pycharm": {
     "name": "#%%\n"
    }
   },
   "execution_count": null,
   "outputs": [
    {
     "output_type": "stream",
     "name": "stdout",
     "text": [
      "[4778.96208014 3844.89851383]\n"
     ]
    }
   ]
  },
  {
   "cell_type": "code",
   "source": [
    "# Add columns to the table showing the minimum separation from Polymele's path, and the time at which this occurs. We do this\n",
    "# with the helper function below:\n",
    "def sep_min(pos_star, ephem):\n",
    "  pos_asteroid = SkyCoord(ephem['RA'], ephem['DEC'], unit=(u.deg, u.deg), frame='icrs')\n",
    "  sep = pos_asteroid.separation(pos_star).arcsec\n",
    "  sep_min = np.min(sep)\n",
    "  min_index = np.argmin(sep)     # index into the array of min separation\n",
    "  t_min = ephem['datetime_str'][min_index] # time of min separation\n",
    "  return sep_min, t_min\n",
    "\n",
    "result_df['sep_min'] = result_df.apply(lambda row: sep_min(SkyCoord(row['ra_current'], row['dec_current'], unit=(u.deg, u.deg), frame='icrs'), ephem_KS)[0], axis=1)\n",
    "result_df['t_min'] = result_df.apply(lambda row: sep_min(SkyCoord(row['ra_current'], row['dec_current'], unit=(u.deg, u.deg), frame='icrs'), ephem_KS)[1], axis=1)\n",
    "result_df[['source_id','ra','dec','ra_current','dec_current','phot_g_mean_mag','sep_min','t_min']].head()"
   ],
   "metadata": {
    "colab": {
     "base_uri": "https://localhost:8080/",
     "height": 112
    },
    "id": "cjiM68siE7X-",
    "outputId": "e5516625-1355-45da-d109-beb4a48298c7",
    "pycharm": {
     "name": "#%%\n"
    }
   },
   "execution_count": null,
   "outputs": [
    {
     "output_type": "execute_result",
     "data": {
      "text/plain": [
       "            source_id         ra        dec  ra_current  dec_current  \\\n",
       "0  942257658000993664  99.728803  36.024421   99.728811    36.024418   \n",
       "1  942258409619588992  99.727726  36.024223   99.727734    36.024221   \n",
       "\n",
       "   phot_g_mean_mag   sep_min                     t_min  \n",
       "0        18.614342  0.505558  2023-Feb-04 01:30:44.000  \n",
       "1        13.290937  0.060573  2023-Feb-04 01:44:46.000  "
      ],
      "text/html": [
       "\n",
       "  <div id=\"df-2c1adcdd-1577-417e-950b-985a70f70d0f\">\n",
       "    <div class=\"colab-df-container\">\n",
       "      <div>\n",
       "<style scoped>\n",
       "    .dataframe tbody tr th:only-of-type {\n",
       "        vertical-align: middle;\n",
       "    }\n",
       "\n",
       "    .dataframe tbody tr th {\n",
       "        vertical-align: top;\n",
       "    }\n",
       "\n",
       "    .dataframe thead th {\n",
       "        text-align: right;\n",
       "    }\n",
       "</style>\n",
       "<table border=\"1\" class=\"dataframe\">\n",
       "  <thead>\n",
       "    <tr style=\"text-align: right;\">\n",
       "      <th></th>\n",
       "      <th>source_id</th>\n",
       "      <th>ra</th>\n",
       "      <th>dec</th>\n",
       "      <th>ra_current</th>\n",
       "      <th>dec_current</th>\n",
       "      <th>phot_g_mean_mag</th>\n",
       "      <th>sep_min</th>\n",
       "      <th>t_min</th>\n",
       "    </tr>\n",
       "  </thead>\n",
       "  <tbody>\n",
       "    <tr>\n",
       "      <th>0</th>\n",
       "      <td>942257658000993664</td>\n",
       "      <td>99.728803</td>\n",
       "      <td>36.024421</td>\n",
       "      <td>99.728811</td>\n",
       "      <td>36.024418</td>\n",
       "      <td>18.614342</td>\n",
       "      <td>0.505558</td>\n",
       "      <td>2023-Feb-04 01:30:44.000</td>\n",
       "    </tr>\n",
       "    <tr>\n",
       "      <th>1</th>\n",
       "      <td>942258409619588992</td>\n",
       "      <td>99.727726</td>\n",
       "      <td>36.024223</td>\n",
       "      <td>99.727734</td>\n",
       "      <td>36.024221</td>\n",
       "      <td>13.290937</td>\n",
       "      <td>0.060573</td>\n",
       "      <td>2023-Feb-04 01:44:46.000</td>\n",
       "    </tr>\n",
       "  </tbody>\n",
       "</table>\n",
       "</div>\n",
       "      <button class=\"colab-df-convert\" onclick=\"convertToInteractive('df-2c1adcdd-1577-417e-950b-985a70f70d0f')\"\n",
       "              title=\"Convert this dataframe to an interactive table.\"\n",
       "              style=\"display:none;\">\n",
       "        \n",
       "  <svg xmlns=\"http://www.w3.org/2000/svg\" height=\"24px\"viewBox=\"0 0 24 24\"\n",
       "       width=\"24px\">\n",
       "    <path d=\"M0 0h24v24H0V0z\" fill=\"none\"/>\n",
       "    <path d=\"M18.56 5.44l.94 2.06.94-2.06 2.06-.94-2.06-.94-.94-2.06-.94 2.06-2.06.94zm-11 1L8.5 8.5l.94-2.06 2.06-.94-2.06-.94L8.5 2.5l-.94 2.06-2.06.94zm10 10l.94 2.06.94-2.06 2.06-.94-2.06-.94-.94-2.06-.94 2.06-2.06.94z\"/><path d=\"M17.41 7.96l-1.37-1.37c-.4-.4-.92-.59-1.43-.59-.52 0-1.04.2-1.43.59L10.3 9.45l-7.72 7.72c-.78.78-.78 2.05 0 2.83L4 21.41c.39.39.9.59 1.41.59.51 0 1.02-.2 1.41-.59l7.78-7.78 2.81-2.81c.8-.78.8-2.07 0-2.86zM5.41 20L4 18.59l7.72-7.72 1.47 1.35L5.41 20z\"/>\n",
       "  </svg>\n",
       "      </button>\n",
       "      \n",
       "  <style>\n",
       "    .colab-df-container {\n",
       "      display:flex;\n",
       "      flex-wrap:wrap;\n",
       "      gap: 12px;\n",
       "    }\n",
       "\n",
       "    .colab-df-convert {\n",
       "      background-color: #E8F0FE;\n",
       "      border: none;\n",
       "      border-radius: 50%;\n",
       "      cursor: pointer;\n",
       "      display: none;\n",
       "      fill: #1967D2;\n",
       "      height: 32px;\n",
       "      padding: 0 0 0 0;\n",
       "      width: 32px;\n",
       "    }\n",
       "\n",
       "    .colab-df-convert:hover {\n",
       "      background-color: #E2EBFA;\n",
       "      box-shadow: 0px 1px 2px rgba(60, 64, 67, 0.3), 0px 1px 3px 1px rgba(60, 64, 67, 0.15);\n",
       "      fill: #174EA6;\n",
       "    }\n",
       "\n",
       "    [theme=dark] .colab-df-convert {\n",
       "      background-color: #3B4455;\n",
       "      fill: #D2E3FC;\n",
       "    }\n",
       "\n",
       "    [theme=dark] .colab-df-convert:hover {\n",
       "      background-color: #434B5C;\n",
       "      box-shadow: 0px 1px 3px 1px rgba(0, 0, 0, 0.15);\n",
       "      filter: drop-shadow(0px 1px 2px rgba(0, 0, 0, 0.3));\n",
       "      fill: #FFFFFF;\n",
       "    }\n",
       "  </style>\n",
       "\n",
       "      <script>\n",
       "        const buttonEl =\n",
       "          document.querySelector('#df-2c1adcdd-1577-417e-950b-985a70f70d0f button.colab-df-convert');\n",
       "        buttonEl.style.display =\n",
       "          google.colab.kernel.accessAllowed ? 'block' : 'none';\n",
       "\n",
       "        async function convertToInteractive(key) {\n",
       "          const element = document.querySelector('#df-2c1adcdd-1577-417e-950b-985a70f70d0f');\n",
       "          const dataTable =\n",
       "            await google.colab.kernel.invokeFunction('convertToInteractive',\n",
       "                                                     [key], {});\n",
       "          if (!dataTable) return;\n",
       "\n",
       "          const docLinkHtml = 'Like what you see? Visit the ' +\n",
       "            '<a target=\"_blank\" href=https://colab.research.google.com/notebooks/data_table.ipynb>data table notebook</a>'\n",
       "            + ' to learn more about interactive tables.';\n",
       "          element.innerHTML = '';\n",
       "          dataTable['output_type'] = 'display_data';\n",
       "          await google.colab.output.renderOutput(dataTable, element);\n",
       "          const docLink = document.createElement('div');\n",
       "          docLink.innerHTML = docLinkHtml;\n",
       "          element.appendChild(docLink);\n",
       "        }\n",
       "      </script>\n",
       "    </div>\n",
       "  </div>\n",
       "  "
      ]
     },
     "metadata": {},
     "execution_count": 14
    }
   ]
  },
  {
   "cell_type": "markdown",
   "source": [
    "The above table summarizes the important information about the occultation! There are two Gaia stars nearby, the first with mag 18.6 and the second, brighter one, with mag 13.3. Polymele most closely approaches the mag 13.3 star, passing within 0.08 arcseconds at approximately 01:45:33 UT. \n",
    "\n",
    "Both the min separation (which should be nearly zero) and the time (which should be about a minute earlier) are very slightly off -- which could happen for a number of subtle reasons -- but this is not bad!\n",
    "\n",
    "<b>Update 1/25/23</b>: Our calculation above misses by just a bit because the orital elements for Polymele are not as up-to-date as the ones the Lucy team is using. I've obtained this new orbital solution from the Lucy team, and the result is much closer (I calculate the centerline to be about 10km away from the Lucy team's result), and the occultation time comes about 45 seconds earlier, as it should. This calculation takes a bit more software technology since we can't grab everything from Horizons, but we will learn that as we go along.\n",
    "\n",
    "\n",
    "\n",
    "---\n",
    "\n",
    "\n",
    "Let's plot the trajectory as seen from our observing site, and the earth geocenter. We'll only plot the target star. "
   ],
   "metadata": {
    "id": "giZE3nmKQJCg",
    "pycharm": {
     "name": "#%% md\n"
    }
   }
  },
  {
   "cell_type": "code",
   "source": [
    "fig, ax = plt.subplots(figsize=(18, 6))\n",
    "\n",
    "ax.plot(pos_geocenter.ra.deg, pos_geocenter.dec.deg, color='black', label='Polymele (Geocenter)')\n",
    "ax.plot(pos_KS.ra.deg, pos_KS.dec.deg, color='blue', label='Polymele(Macpherson, KS)')\n",
    "ax.scatter(result_df['ra_current'][1], result_df['dec_current'][1], s=400, marker='*', color='green', label=f\"{result['DESIGNATION'][1]}\")\n",
    "ax.tick_params(labelsize=16)\n",
    "ax.set_xlabel('RA', fontsize=24, labelpad=20)\n",
    "ax.set_ylabel('DEC', fontsize=24, labelpad=30)\n",
    "ax.grid()\n",
    "ax.legend(fontsize=16)\n",
    "fig.tight_layout()"
   ],
   "metadata": {
    "colab": {
     "base_uri": "https://localhost:8080/",
     "height": 378
    },
    "id": "CYTnRS9M9vvj",
    "outputId": "bfb4127d-a02b-4fe8-922e-63ffeec7bb0a",
    "pycharm": {
     "name": "#%%\n"
    }
   },
   "execution_count": null,
   "outputs": [
    {
     "output_type": "display_data",
     "data": {
      "text/plain": [
       "<Figure size 1296x432 with 1 Axes>"
      ],
      "image/png": "[encoded data removed]"
     },
     "metadata": {
      "needs_background": "light"
     }
    }
   ]
  },
  {
   "cell_type": "markdown",
   "source": [
    "You can clearly see the effect of parallax -- the apparent position of Polymele from the earth geocenter is very different! Note that the two lines are not exactly parallel--this is because the relative parallax between Kansas and the earth center changes over the course of one hour due to the earth's rotation. (With the updated orbit for Polymele, the track passes right through the star.)\n",
    "\n",
    "Finally, let's use our ephemeris look at some of the other observing circumstances for that night. We will grab the row from the ephemeris that corresponds to our calculated time for the event."
   ],
   "metadata": {
    "id": "SLuHC-VnXP6i",
    "pycharm": {
     "name": "#%% md\n"
    }
   }
  },
  {
   "cell_type": "code",
   "source": [
    "t_occultation = result_df.t_min.values[1] # the time at which the occultation occurs, calculated above.\n",
    "ephem_KS_df = ephem_KS.to_pandas()        # convert to a pandas dataframe because I like it that way. \n",
    "ephem_occultation = ephem_KS_df.loc[ephem_KS_df.datetime_str==t_occultation]"
   ],
   "metadata": {
    "id": "LX51u8BxX0IW",
    "pycharm": {
     "name": "#%%\n"
    }
   },
   "execution_count": null,
   "outputs": []
  },
  {
   "cell_type": "code",
   "source": [
    "cols = ['EL','AZ','RA','DEC','constellation','V','airmass','r','elong','lunar_elong','lunar_illum']\n",
    "ephem_occultation[cols].head()"
   ],
   "metadata": {
    "colab": {
     "base_uri": "https://localhost:8080/",
     "height": 81
    },
    "id": "6_qHeD0jX-xZ",
    "outputId": "cdcc2797-9ba1-4185-b096-5dd0b7a17557",
    "pycharm": {
     "name": "#%%\n"
    }
   },
   "execution_count": null,
   "outputs": [
    {
     "output_type": "execute_result",
     "data": {
      "text/plain": [
       "             EL         AZ         RA        DEC constellation       V  \\\n",
       "2686  60.147735  82.771219  99.727736  36.024204           Aur  18.741   \n",
       "\n",
       "      airmass         r     elong  lunar_elong  lunar_illum  \n",
       "2686    1.152  4.835836  141.5309         20.3      97.4756  "
      ],
      "text/html": [
       "\n",
       "  <div id=\"df-0f30e68c-cf2a-4ac4-a96a-a7d1244154b0\">\n",
       "    <div class=\"colab-df-container\">\n",
       "      <div>\n",
       "<style scoped>\n",
       "    .dataframe tbody tr th:only-of-type {\n",
       "        vertical-align: middle;\n",
       "    }\n",
       "\n",
       "    .dataframe tbody tr th {\n",
       "        vertical-align: top;\n",
       "    }\n",
       "\n",
       "    .dataframe thead th {\n",
       "        text-align: right;\n",
       "    }\n",
       "</style>\n",
       "<table border=\"1\" class=\"dataframe\">\n",
       "  <thead>\n",
       "    <tr style=\"text-align: right;\">\n",
       "      <th></th>\n",
       "      <th>EL</th>\n",
       "      <th>AZ</th>\n",
       "      <th>RA</th>\n",
       "      <th>DEC</th>\n",
       "      <th>constellation</th>\n",
       "      <th>V</th>\n",
       "      <th>airmass</th>\n",
       "      <th>r</th>\n",
       "      <th>elong</th>\n",
       "      <th>lunar_elong</th>\n",
       "      <th>lunar_illum</th>\n",
       "    </tr>\n",
       "  </thead>\n",
       "  <tbody>\n",
       "    <tr>\n",
       "      <th>2686</th>\n",
       "      <td>60.147735</td>\n",
       "      <td>82.771219</td>\n",
       "      <td>99.727736</td>\n",
       "      <td>36.024204</td>\n",
       "      <td>Aur</td>\n",
       "      <td>18.741</td>\n",
       "      <td>1.152</td>\n",
       "      <td>4.835836</td>\n",
       "      <td>141.5309</td>\n",
       "      <td>20.3</td>\n",
       "      <td>97.4756</td>\n",
       "    </tr>\n",
       "  </tbody>\n",
       "</table>\n",
       "</div>\n",
       "      <button class=\"colab-df-convert\" onclick=\"convertToInteractive('df-0f30e68c-cf2a-4ac4-a96a-a7d1244154b0')\"\n",
       "              title=\"Convert this dataframe to an interactive table.\"\n",
       "              style=\"display:none;\">\n",
       "        \n",
       "  <svg xmlns=\"http://www.w3.org/2000/svg\" height=\"24px\"viewBox=\"0 0 24 24\"\n",
       "       width=\"24px\">\n",
       "    <path d=\"M0 0h24v24H0V0z\" fill=\"none\"/>\n",
       "    <path d=\"M18.56 5.44l.94 2.06.94-2.06 2.06-.94-2.06-.94-.94-2.06-.94 2.06-2.06.94zm-11 1L8.5 8.5l.94-2.06 2.06-.94-2.06-.94L8.5 2.5l-.94 2.06-2.06.94zm10 10l.94 2.06.94-2.06 2.06-.94-2.06-.94-.94-2.06-.94 2.06-2.06.94z\"/><path d=\"M17.41 7.96l-1.37-1.37c-.4-.4-.92-.59-1.43-.59-.52 0-1.04.2-1.43.59L10.3 9.45l-7.72 7.72c-.78.78-.78 2.05 0 2.83L4 21.41c.39.39.9.59 1.41.59.51 0 1.02-.2 1.41-.59l7.78-7.78 2.81-2.81c.8-.78.8-2.07 0-2.86zM5.41 20L4 18.59l7.72-7.72 1.47 1.35L5.41 20z\"/>\n",
       "  </svg>\n",
       "      </button>\n",
       "      \n",
       "  <style>\n",
       "    .colab-df-container {\n",
       "      display:flex;\n",
       "      flex-wrap:wrap;\n",
       "      gap: 12px;\n",
       "    }\n",
       "\n",
       "    .colab-df-convert {\n",
       "      background-color: #E8F0FE;\n",
       "      border: none;\n",
       "      border-radius: 50%;\n",
       "      cursor: pointer;\n",
       "      display: none;\n",
       "      fill: #1967D2;\n",
       "      height: 32px;\n",
       "      padding: 0 0 0 0;\n",
       "      width: 32px;\n",
       "    }\n",
       "\n",
       "    .colab-df-convert:hover {\n",
       "      background-color: #E2EBFA;\n",
       "      box-shadow: 0px 1px 2px rgba(60, 64, 67, 0.3), 0px 1px 3px 1px rgba(60, 64, 67, 0.15);\n",
       "      fill: #174EA6;\n",
       "    }\n",
       "\n",
       "    [theme=dark] .colab-df-convert {\n",
       "      background-color: #3B4455;\n",
       "      fill: #D2E3FC;\n",
       "    }\n",
       "\n",
       "    [theme=dark] .colab-df-convert:hover {\n",
       "      background-color: #434B5C;\n",
       "      box-shadow: 0px 1px 3px 1px rgba(0, 0, 0, 0.15);\n",
       "      filter: drop-shadow(0px 1px 2px rgba(0, 0, 0, 0.3));\n",
       "      fill: #FFFFFF;\n",
       "    }\n",
       "  </style>\n",
       "\n",
       "      <script>\n",
       "        const buttonEl =\n",
       "          document.querySelector('#df-0f30e68c-cf2a-4ac4-a96a-a7d1244154b0 button.colab-df-convert');\n",
       "        buttonEl.style.display =\n",
       "          google.colab.kernel.accessAllowed ? 'block' : 'none';\n",
       "\n",
       "        async function convertToInteractive(key) {\n",
       "          const element = document.querySelector('#df-0f30e68c-cf2a-4ac4-a96a-a7d1244154b0');\n",
       "          const dataTable =\n",
       "            await google.colab.kernel.invokeFunction('convertToInteractive',\n",
       "                                                     [key], {});\n",
       "          if (!dataTable) return;\n",
       "\n",
       "          const docLinkHtml = 'Like what you see? Visit the ' +\n",
       "            '<a target=\"_blank\" href=https://colab.research.google.com/notebooks/data_table.ipynb>data table notebook</a>'\n",
       "            + ' to learn more about interactive tables.';\n",
       "          element.innerHTML = '';\n",
       "          dataTable['output_type'] = 'display_data';\n",
       "          await google.colab.output.renderOutput(dataTable, element);\n",
       "          const docLink = document.createElement('div');\n",
       "          docLink.innerHTML = docLinkHtml;\n",
       "          element.appendChild(docLink);\n",
       "        }\n",
       "      </script>\n",
       "    </div>\n",
       "  </div>\n",
       "  "
      ]
     },
     "metadata": {},
     "execution_count": 20
    }
   ]
  },
  {
   "cell_type": "markdown",
   "source": [
    "This tells us that the star will be 57 degrees above the horizon, nearly in the east (azimuth=79 degrees, where north = 0 and east = 90), in the constellation Auriga. This relatively high elevation is good and means that we won't be looking through lots of air (airmass = 1.18, where zenith = 1.0). Polymele will be 4.83 AU from the sun at that point, and will have a visual magnitude of 18.7. This is considerably too faint to be seen by the small telescopes we'll be using: we will be able to see the 13.3 mag star, but not Polymele itself. (Remember that Polymele is the smallest of the Lucy Trojan targets, just 25 km in size.) We will be looking far from the sun (which will already have set anyway), solar elongation = 141 degrees. (This is consistent with the star being in the east shortly after sunset!) Now the bad news: the star is only 20.4 degrees from a moon that will be 97.5% illuminated. There will be a lot of sky light! Hopefully we'll have clear, dry skies to minimize scattered light."
   ],
   "metadata": {
    "id": "enb4aYRvZzss",
    "pycharm": {
     "name": "#%% md\n"
    }
   }
  },
  {
   "cell_type": "markdown",
   "source": [
    "# Homework\n",
    "\n",
    "Repeat the steps above, but for the [Orus occultation](http://lucy.swri.edu/occ/20211016Orus.html) on 2021-10-16 that was featured in the \"Star Chasers of Senegal\" documentary. You should be able to do this by changing the name of the asteroid, the dates, and the observing location (choose one from the map). Use your modified code to answer the following questions:\n",
    "\n",
    "*   What was the Gaia source ID of the star that was occulted?\n",
    "*   What was the visible magnitude of Orus at the time?\n",
    "*   How far above the horizon did the occultation occur?\n",
    "*   What was the phase of the moon and how far was it from the star?\n",
    "\n",
    "\n",
    "\n"
   ],
   "metadata": {
    "id": "bf_WalMpemEA",
    "pycharm": {
     "name": "#%% md\n"
    }
   }
  }
 ]
}